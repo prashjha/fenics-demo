{
 "cells": [
  {
   "cell_type": "markdown",
   "id": "85994fce",
   "metadata": {},
   "source": [
    "# Deformation of solids\n",
    "\n",
    "**Prashant K. Jha**\n",
    "\n",
    "*Department of Mechanical Engineering, South Dakota School of Mines and Technology, Rapid City, SD, USA*"
   ]
  },
  {
   "cell_type": "markdown",
   "id": "f7152901",
   "metadata": {},
   "source": [
    "In this tutorial, we model the deformation of elastic materials using fenics. The problems considered include:\n",
    "1. Deformation of a linear elastic material modeled using small deformation theory. This results in a linear variational problem. I\n",
    "2. Deformation of an orthotropic elastic material (as an example of anisotropic material). \n",
    "3. Deformation of a hyperelastic material assuming large deformation theory. The resulting partial differential equation is highly nonlinear in the displacement.\n",
    "\n",
    "## Large deformation of linear elastic materials\n",
    "\n",
    "Consider a 3-D beam $\\Omega = \\{(x,y,z): x\\in (0, L),\\; y\\in (0,W),\\; z\\in (0,H)\\}$ as shown in the figure. The beam is fixed on the left surface (at $x=0$), $\\Gamma_l = \\{(x,y,z) \\in \\Omega: x = 0\\}$, and is subjected to external traction $\\boldsymbol{t}$ on the right surface (at $x=L$), $\\Gamma_r = \\{(x,y,z) \\in \\Omega: x = L\\}$. The traction is such that the beam deflects in the downward direction and twists about the axis of the beam. \n",
    "\n",
    "<img src=\"results/linear_elastic_problem.png\" style=\"width:400px;\">\n",
    "\n",
    "To describe the large deformation, we introduce few notations:\n",
    "- $\\boldsymbol{X} = (X_1, X_2, X_3) \\in \\Omega$ denotes the position of a point in the reference configuration (initial configuration) of solid;\n",
    "- $\\boldsymbol{x}(\\boldsymbol{X}) = (x_1(\\boldsymbol{X}), x_2(\\boldsymbol{X}), x_3(\\boldsymbol{X})) \\in \\Omega$ denotes the position of a point $\\boldsymbol{X}\\in \\Omega$ in the current configuration of solid;\n",
    "- $\\boldsymbol{u}(\\boldsymbol{X}) = \\boldsymbol{x}(\\boldsymbol{X}) - \\boldsymbol{X}$ denotes the displacement of a reference point $\\boldsymbol{X}$;\n",
    "- $\\boldsymbol{F} = \\frac{\\partial \\boldsymbol{x}}{\\partial \\boldsymbol{X}} = \\boldsymbol{I} + \\nabla_{\\boldsymbol{X}} \\boldsymbol{u}(\\boldsymbol{X})$ is the deformation gradient, where $\\nabla_{\\boldsymbol{X}} g = \\frac{\\partial g}{\\partial \\boldsymbol{X}} = (\\frac{\\partial g}{\\partial X_1}, \\frac{\\partial g}{\\partial X_2}, \\frac{\\partial g}{\\partial X_3})$ denotes the gradient of a scalar function $g$ with respect to $\\boldsymbol{X}$;\n",
    "- $\\boldsymbol{C} = \\boldsymbol{F}^T \\boldsymbol{F}$ is the right Cauchy-Green strain tensor, where $\\boldsymbol{F}^T$ denotes the transpose of a tensor;\n",
    "- $\\boldsymbol{E} = (\\boldsymbol{C} - \\boldsymbol{I})/2$ is the Lagrangian measure of strain known as the Green strain tensor. We can show that\n",
    "\\begin{equation}\\tag{1}\n",
    "\\boldsymbol{E} = \\frac{1}{2}\\left[\\nabla_{\\boldsymbol{X}} \\boldsymbol{u} + \\left(\\nabla_{\\boldsymbol{X}} \\boldsymbol{u} \\right)^T + \\left(\\nabla_{\\boldsymbol{X}} \\boldsymbol{u} \\right)^T \\left( \\nabla_{\\boldsymbol{X}} \\boldsymbol{u} \\right) \\right] = \\boldsymbol{e} + \\frac{1}{2} \\left(\\nabla_{\\boldsymbol{X}} \\boldsymbol{u} \\right)^T \\left( \\nabla_{\\boldsymbol{X}} \\boldsymbol{u} \\right)\\,,\n",
    "\\end{equation}\n",
    "where $\\boldsymbol{e} = \\frac{1}{2}\\left[\\nabla_{\\boldsymbol{X}} \\boldsymbol{u} + \\left(\\nabla_{\\boldsymbol{X}} \\boldsymbol{u} \\right)^T \\right]$ is the linearized strain tensor. Thus, we see that the Green strain tensor $\\boldsymbol{E}$ is a nonlinear function of displacement. \n",
    "- $\\boldsymbol{\\sigma}(\\boldsymbol{x})$ denotes the Cauchy stress tensor defined in the deformed solid. \n",
    "- $\\boldsymbol{P}(\\boldsymbol{X})$ is the first Piola Kirchhoff stress tensor defined in reference configuration. We have, for $\\boldsymbol{x}= \\boldsymbol{x}(\\boldsymbol{X})$,\n",
    "\\begin{equation}\\tag{2}\n",
    "\\boldsymbol{\\sigma}(\\boldsymbol{x}) = J^{-1} \\boldsymbol{P}(\\boldsymbol{X}) \\boldsymbol{F}(\\boldsymbol{X})^T\\,.\n",
    "\\end{equation}\n",
    "In the above, $J = \\mathrm{det}(\\boldsymbol{F})$ is the determinant of $\\boldsymbol{F}$.\n",
    "- $\\boldsymbol{S}(\\boldsymbol{X})$ is the second Piola Kirchhoff stress tensor defined in reference configuration. The key property of $\\boldsymbol{S}$ is that it is symmetric, and it is often used in place of $\\boldsymbol{P}$. The first and second Piola stresses are related as follows: \n",
    "\\begin{equation}\\tag{3}\n",
    "\\boldsymbol{P} = \\boldsymbol{F} \\boldsymbol{S} \\qquad \\text{or} \\qquad \\boldsymbol{S} = \\boldsymbol{F}^{-1} \\boldsymbol{P},.\n",
    "\\end{equation}\n",
    "- $\\boldsymbol{b}(\\boldsymbol{X})$ is the body force per unit volume defined on the reference configuration of solid. If $\\bar{\\boldsymbol{b}(\\boldsymbol{x})}$ denotes the body force on current configuration of solid, we have $\\boldsymbol{b}(\\boldsymbol{X}) = J \\bar{\\boldsymbol{b}}(\\boldsymbol{x})$.\n",
    "- $\\boldsymbol{t}(\\boldsymbol{X})$ is the specified traction (force vector per unit area) at $\\boldsymbol{X}$ on some part of the boundary, say $\\Gamma_r \\in \\partial \\Omega$. We have, for $\\boldsymbol{X} \\in \\Gamma_r$, $\\boldsymbol{t}(\\boldsymbol{X}) = \\boldsymbol{P}(\\boldsymbol{X}) \\boldsymbol{n}(\\boldsymbol{X})$, where $\\boldsymbol{n}(\\boldsymbol{X})$ is the unit outward normal at $\\boldsymbol{X}$ on the boundary.\n",
    "\n",
    "We define the three invariants $\\mathcal{I}_i(\\boldsymbol{C})$ as follows\n",
    "\\begin{equation}\\tag{10}\n",
    "\\mathcal{I}_1(\\boldsymbol{C}) = \\mathrm{tr}(\\boldsymbol{C})\\,, \\quad \\mathcal{I}_2(\\boldsymbol{C}) = \\frac{1}{2}\\left[\\left(\\mathrm{tr}(\\boldsymbol{C})\\right)^2 - \\mathrm{tr}\\left( \\boldsymbol{C}\\right)^2 \\right]\\,, \\quad \\mathcal{I}_3(\\boldsymbol{C}) = \\mathrm{det}(\\boldsymbol{C})\\,,\n",
    "\\end{equation}\n",
    "where $\\mathrm{tr}$ and $\\mathrm{det}$ are trace and determinant operators.\n",
    "\n",
    "The equilibrium configuration of the body under external traction $\\boldsymbol{t}$ on the boundary and body force $\\boldsymbol{b}$ is the one where the displacement $\\boldsymbol{u}$ satisfies the following boundary value problem:\n",
    "\\begin{align}\\tag{4}\n",
    "-\\nabla \\cdot \\boldsymbol{P} &= \\boldsymbol{b} && \\qquad \\text{in }\\;\\Omega, \\\\\n",
    " \\boldsymbol{F} \\boldsymbol{P}^T &= \\boldsymbol{P} \\boldsymbol{F}^T && \\qquad \\text{in }\\;\\Omega, \\\\\n",
    "\\boldsymbol{u} &= \\boldsymbol{0} && \\qquad \\text{on }\\;\\Gamma_{l}, \\\\\n",
    "\\boldsymbol{P}\\boldsymbol{n} &= \\boldsymbol{t} && \\qquad \\text{on }\\;\\Gamma_{r}, \\\\\n",
    "\\boldsymbol{P}\\boldsymbol{n} &= \\boldsymbol{0} && \\qquad \\text{on }\\;\\partial \\Omega - (\\Gamma_{r}\\cup \\Gamma_{l}), \\\\\n",
    "\\end{align}\n",
    "where the second equation is the balance of angular momentum, and $\\partial \\Omega - (\\Gamma_{r}\\cup \\Gamma_{l})$ is the boundary of the domain excluding the left and right surfaces (at $x=0$ and $x=L$).\n",
    "\n",
    "### Constitutive law\n",
    "\n",
    "Constitutive law relates the stress, the first Piola Kirchhoff stress tensor $\\boldsymbol{P}$, to the strain, the Green Strain tensor $\\boldsymbol{F}$. Or we can write the relation between $\\boldsymbol{S}$ and $\\boldsymbol{E}$, and using the relations between various quantities, we can get the relation between $\\boldsymbol{P}$ and $\\boldsymbol{F}$. One possibility is to assume material to be linear and isotropic, which results in the following relation:\n",
    "\\begin{equation}\\tag{5}\n",
    "\\boldsymbol{S} = \\lambda \\mathrm{tr}(\\boldsymbol{E}) \\boldsymbol{I} + 2\\mu \\boldsymbol{E} = \\frac{\\lambda}{2} \\left[\\mathrm{tr}(\\boldsymbol{C}) - 3 \\right]\\boldsymbol{I} + \\mu (\\boldsymbol{C} - \\boldsymbol{I})\\,,\n",
    "\\end{equation}\n",
    "where $(\\lambda, \\mu)$ are Lam\\`e parameters, $\\mathrm{tr}(\\boldsymbol{\\epsilon}) = \\epsilon_{ii} = \\nabla \\cdot \\boldsymbol{u}$ the trace of the tensor $\\boldsymbol{\\epsilon}$, and $\\boldsymbol{I} = \\delta_{ij}$ the identity tensor in 3-D (in 2-D if this was a 2-D problem). We also used the fact that $\\boldsymbol{C} = \\boldsymbol{I} + 2\\boldsymbol{E}$. This model is also called **neo-Hookean** model and **St Venant-Kirchhoff** model. \n",
    "\n",
    "#### Strain energy density\n",
    "There are other versions of neo Hookean models. In general, we can consider a strain energy density function $W = W(\\boldsymbol{X}, \\boldsymbol{F})$ that depends on the material point $\\boldsymbol{X}$ and deformation gradient $\\boldsymbol{F}$. The first Piola stress is given by\n",
    "\\begin{equation}\\tag{6}\n",
    "\\boldsymbol{P} = \\frac{\\partial W}{\\partial \\boldsymbol{F}}\\,,\n",
    "\\end{equation}\n",
    "and the second Piola stress is given by\n",
    "\\begin{equation}\\tag{7}\n",
    "\\boldsymbol{S} = \\frac{\\partial W}{\\partial \\boldsymbol{E}} = 2\\frac{\\partial W}{\\partial \\boldsymbol{C}}\\,.\n",
    "\\end{equation}\n",
    "Using the above two equations and the relation $\\boldsymbol{P} = \\boldsymbol{F} \\boldsymbol{S}$, we have\n",
    "\\begin{equation}\\tag{8}\n",
    "\\boldsymbol{P} = \\boldsymbol{F} \\frac{\\partial W}{\\partial \\boldsymbol{E}} = 2 \\boldsymbol{F} \\frac{\\partial W}{\\partial \\boldsymbol{C}}\\,.\n",
    "\\end{equation}\n",
    "\n",
    "**St Venant Kirrchhoff Material Material Model** To recover the relation $\\boldsymbol{S} = \\lambda \\mathrm{tr}(\\boldsymbol{E}) \\boldsymbol{I} + 2\\mu \\boldsymbol{E}$, one can take the energy density function as\n",
    "\\begin{equation}\\tag{9}\n",
    "W = \\frac{1}{2} \\boldsymbol{S} \\boldsymbol{:} \\boldsymbol{E} = \\frac{\\lambda}{2} \\left[\\mathrm{tr}(\\boldsymbol{E}) \\right]^2 + \\mu \\mathrm{tr}\\left( \\boldsymbol{E}^2\\right) \\,.\n",
    "\\end{equation}\n",
    " We can expand the example $W$ above to write it in terms of the invariants $\\mathcal{I}_i$ of $\\boldsymbol{C}$ as follows\n",
    "\\begin{equation}\\tag{11}\n",
    "W = \\mu(\\mathcal{I}_1(\\boldsymbol{C}) - 3) + \\frac{\\lambda + 2\\mu}{8} \\left[\\mathcal{I}_1(\\boldsymbol{C}) - 3\\right]^2 - \\frac{\\mu}{2} (\\mathcal{I}_2(\\boldsymbol{C}) - 3) \\,.\n",
    "\\end{equation}\n",
    "\n",
    "**Compressible neo Hookean Material Model** We consider the strain energy that upto first order accounts for energy due to volumetric (purely change in volume keepin the shape same) and isochoric (deformation with no change in volume) deformations:\n",
    "\\begin{equation}\\tag{12}\n",
    "W = \\frac{\\mu}{2}\\left[J^{-2/3}\\mathcal{I}_1(\\boldsymbol{C}) - 3\\right] + \\frac{K}{2} (J - 1)^2 \\,,\n",
    "\\end{equation}\n",
    "where recall that $J = \\mathrm{det}(\\boldsymbol{F})$, and $\\mu$ and $K$ are shear and bulk modulii. To compute the stress $\\boldsymbol{P}$, we will use the formula $\\boldsymbol{P} = \\frac{\\partial W}{\\partial \\boldsymbol{F}}$ together with Fenics autodifferentiation feature to compute the derivatives. In the above expression, the first term models the energy contribution due to isochoric (volume-preserved) deformation and the second term models the energy contribution due to volumetric deformation. \n",
    "\n",
    "\n",
    "### Variational formulation\n",
    "\n",
    "Let $V$ be the appropriate function space for the displacement (functions in $V$ are vector-valued functions). Due to homogeneous Dirichlet boundary condition, the trial and test functions belong to the same function space $V$. \n",
    "\n",
    "Multiplying the strong form of the problem by test function $\\boldsymbol{v}\\in V$ and integrating it over the domain $\\Omega$ gives:\n",
    "\\begin{equation}\\tag{13}\n",
    "-\\int_{\\Omega} \\left(\\nabla \\cdot \\boldsymbol{P}\\right) \\cdot \\boldsymbol{v} \\,d\\boldsymbol{X} = \\int_{\\Omega} \\boldsymbol{b} \\cdot \\boldsymbol{v} \\,d\\boldsymbol{X} .\n",
    "\\end{equation}\n",
    "The term on the left can also be written using integration by parts:\n",
    "\\begin{equation}\\tag{14}\n",
    "-\\int_{\\Omega} \\left(\\nabla \\cdot \\boldsymbol{P}\\right) \\cdot \\boldsymbol{v} \\,d\\boldsymbol{X} = -\\int_{\\partial \\Omega} \\left(\\boldsymbol{P}\\boldsymbol{n}\\right)\\cdot \\boldsymbol{v} \\,d\\boldsymbol{X} + \\int_{\\Omega} \\boldsymbol{P} \\boldsymbol{\\colon} \\nabla \\boldsymbol{v} \\,d\\boldsymbol{X} = -\\int_{\\Gamma_{r}} \\boldsymbol{t}\\cdot \\boldsymbol{v} \\,d\\boldsymbol{X} + \\int_{\\Omega} \\boldsymbol{P} \\boldsymbol{\\colon} \\nabla \\boldsymbol{v} \\,d\\boldsymbol{X}.\n",
    "\\end{equation}\n",
    "Using the above, the variational problem can be stated as follows:\n",
    "\\begin{equation}\\tag{15}\n",
    "\\text{find }\\;\\boldsymbol{u}\\in V \\;\\text{such that }\\qquad \\underbrace{\\int_{\\Omega} \\boldsymbol{P} \\boldsymbol{\\colon} \\nabla \\boldsymbol{v} \\,d\\boldsymbol{X}}_{=: a(\\boldsymbol{u}; \\boldsymbol{v})} = \\underbrace{\\int_{\\Omega} \\boldsymbol{b} \\cdot \\boldsymbol{v} \\,d\\boldsymbol{X} + \\int_{\\Gamma_{r}} \\boldsymbol{t}\\cdot \\boldsymbol{v} \\,d\\boldsymbol{X}}_{=:l(\\boldsymbol{v})} \\qquad \\text{for all }\\; \\boldsymbol{v}\\in V,\n",
    "\\end{equation}\n",
    "where, $\\boldsymbol{P}$ is related to $\\boldsymbol{u}$ via the constitutive law, and $a(\\cdot; \\cdot)$ and $l(\\cdot)$ are semilinear (not bilinear! as in the case of linear elasticity) and linear forms. \n",
    "\n",
    "### Geometrical, material, and external loading parameters and functions\n",
    "\n",
    "In what follows, we let $L = 1$ m, $W = H = 0.2$ m. We assume no body force, i.e., $\\boldsymbol{b} = \\boldsymbol{0}$. The traction loading $\\boldsymbol{t} = (t_x, t_y, t_z)$ on the right boundary $\\Gamma_{r}$ is given by, for all $\\boldsymbol{x} = (x, y, z) \\in \\Gamma_{r}$:\n",
    "\\begin{equation}\\tag{16}\n",
    "t_x(\\boldsymbol{x}) = 0, \\quad t_y(\\boldsymbol{x}) =  \\frac{f_{twist}(z - H/2)}{0.01 + r}, \\quad t_z(\\boldsymbol{x}) = - f_{bend} - \\frac{f_{twist}(y - W/2)}{0.01 + r}, \\quad \\text{where } r =\\sqrt{(y - W/2)^2 + (z - H/2)^2}.\n",
    "\\end{equation}\n",
    "Here, $f_{twist}$ and $f_{bend}$ are magnitudes of force per unit area controlling the twisting and bending loadings. For the numerics, we fix \n",
    "\\begin{equation}\\tag{17}\n",
    "f_{twist} = 2\\times 10^4\\text{ N/m$^2$}, \\qquad f_{bend} = 5\\times 10^3\\text{ N/m$^2$}.\n",
    "\\end{equation}\n",
    "\n",
    "As for the material properties, we take Young's modulus $E = 10^7$ Pa and Poisson ratio $\\nu = 0.3$. These properties are typical of rubber-like materials. Given $(E, \\nu)$, the bulk modulus is given by\n",
    "\\begin{equation}\\tag{18}\n",
    "K = \\frac{E}{3(1 - 2\\nu)}\\,.\n",
    "\\end{equation}\n",
    "\n",
    "### Fenics implementation\n",
    "\n",
    "We start by loading the relevant packages:"
   ]
  },
  {
   "cell_type": "code",
   "execution_count": 1,
   "id": "14534259",
   "metadata": {},
   "outputs": [],
   "source": [
    "import dolfinx\n",
    "import numpy as np\n",
    "import sys\n",
    "import os\n",
    "\n",
    "import pyvista\n",
    "\n",
    "\n",
    "from mpi4py import MPI\n",
    "comm = MPI.COMM_WORLD\n",
    "rank = comm.Get_rank()\n",
    "\n",
    "from petsc4py import PETSc\n",
    "\n",
    "# specific functions from dolfinx modules\n",
    "from dolfinx import fem, mesh, io, plot, log\n",
    "from dolfinx.fem import (Constant, dirichletbc, Function, functionspace, Expression )\n",
    "from dolfinx.fem.petsc import NonlinearProblem\n",
    "from dolfinx.io import VTXWriter\n",
    "from dolfinx.nls.petsc import NewtonSolver\n",
    "\n",
    "# specific functions from ufl modules\n",
    "import ufl\n",
    "from ufl import (TestFunctions,TestFunction, TrialFunction, Identity, grad, det, \n",
    "                 variable, div, dev, inv, tr, sqrt, conditional ,\\\n",
    "                 gt, dx, inner, derivative, dot, ln, \\\n",
    "                 split, outer, cos, acos, lt, eq, ge, le, exp, diff)\n",
    "\n",
    "# basix finite elements\n",
    "import basix\n",
    "from basix.ufl import element, mixed_element, quadrature_element\n",
    "\n",
    "# for plotting\n",
    "import matplotlib.pyplot as plt\n",
    "plt.close('all')\n",
    "\n",
    "from datetime import datetime\n",
    "\n",
    "log.set_log_level(log.LogLevel.WARNING)"
   ]
  },
  {
   "cell_type": "markdown",
   "id": "82a9386c",
   "metadata": {},
   "source": [
    "Next, we set values of different parameters in the simulation:"
   ]
  },
  {
   "cell_type": "code",
   "execution_count": 2,
   "id": "e92d27be",
   "metadata": {},
   "outputs": [],
   "source": [
    "# geometry \n",
    "omega_L, omega_W, omega_H = 1., 0.2, 0.2\n",
    "\n",
    "domain = mesh.create_box(MPI.COMM_WORLD, [[0.0,0.0,0.0], [omega_L, omega_W, omega_H]], [20, 4, 4], mesh.CellType.tetrahedron)\n",
    "\n",
    "# get nodal coordinates in reference configuration\n",
    "x = ufl.SpatialCoordinate(domain) \n",
    "\n",
    "# material\n",
    "E = Constant(domain, PETSc.ScalarType(1.e+7)) #10 MPa\n",
    "nu = Constant(domain, PETSc.ScalarType(0.3))\n",
    "lamda = E*nu/(1+nu)/(1-2*nu)\n",
    "mu = E/(2*(1+nu))\n",
    "K = E/(3*(1-2*nu))\n",
    "\n",
    "# loading\n",
    "f_twist_max = 2.e+4\n",
    "f_bend_max = 5.e+3\n",
    "\n",
    "f_twist = Constant(domain,PETSc.ScalarType(0.))\n",
    "f_bend = Constant(domain,PETSc.ScalarType(0.))"
   ]
  },
  {
   "cell_type": "markdown",
   "id": "c5f6a218",
   "metadata": {},
   "source": [
    "Define vector finite element function space and scalar finite element space (scalar function space will be used to compute the post-processing quantities such as magnitude of the displacement and von-Mises stress):"
   ]
  },
  {
   "cell_type": "code",
   "execution_count": 3,
   "id": "bbab24dd",
   "metadata": {},
   "outputs": [],
   "source": [
    "# specify order of interpolation\n",
    "p_order = 2\n",
    "\n",
    "# create FE element (vector)\n",
    "Uvec = element(\"Lagrange\", domain.basix_cell(), p_order, shape=(3,))\n",
    "\n",
    "# FE function space (vector)\n",
    "Vvec = fem.functionspace(domain, Uvec)\n",
    "\n",
    "# space for von Mises stress (scalar)\n",
    "U = element(\"Lagrange\", domain.basix_cell(), p_order)\n",
    "V = fem.functionspace(domain, U)"
   ]
  },
  {
   "cell_type": "markdown",
   "id": "468c6d05",
   "metadata": {},
   "source": [
    "We also define the trial and test function, and infer the spatial dimension of the problem:"
   ]
  },
  {
   "cell_type": "code",
   "execution_count": 4,
   "id": "2a035c9b",
   "metadata": {},
   "outputs": [
    {
     "name": "stdout",
     "output_type": "stream",
     "text": [
      "d =  3\n"
     ]
    }
   ],
   "source": [
    "u = Function(Vvec)\n",
    "v = TestFunction(Vvec)\n",
    "\n",
    "# spatial dimension of the problem\n",
    "d = len(u)\n",
    "print('d = ', d)"
   ]
  },
  {
   "cell_type": "markdown",
   "id": "65e15c39",
   "metadata": {},
   "source": [
    "Next, define boundaries for boundary conditions:"
   ]
  },
  {
   "cell_type": "code",
   "execution_count": 5,
   "id": "61a949e8",
   "metadata": {},
   "outputs": [],
   "source": [
    "# define edges/surfaces of beam\n",
    "def xBot(x):\n",
    "    return np.isclose(x[0], 0)\n",
    "def xTop(x):\n",
    "    return np.isclose(x[0], omega_L)\n",
    "def yBot(x):\n",
    "    return np.isclose(x[1], 0)\n",
    "def yTop(x):\n",
    "    return np.isclose(x[1], omega_W)\n",
    "def zBot(x):\n",
    "    return np.isclose(x[2], 0)\n",
    "def zTop(x):\n",
    "    return np.isclose(x[2], omega_H)\n",
    "    \n",
    "# mark the sub-domains\n",
    "boundaries = [(1, xBot),(2,xTop),(3,yBot),(4,yTop),(5,zBot),(6,zTop)]\n",
    "\n",
    "# build collections of facets on each subdomain and mark them appropriately.\n",
    "facet_indices, facet_markers = [], [] \n",
    "fdim = domain.topology.dim - 1\n",
    "for (marker, locator) in boundaries:\n",
    "    facets = mesh.locate_entities(domain, fdim, locator) \n",
    "    facet_indices.append(facets) \n",
    "    facet_markers.append(np.full_like(facets, marker)) \n",
    "\n",
    "# Format the facet indices and markers as required for use in dolfinx.\n",
    "facet_indices = np.hstack(facet_indices).astype(np.int32)\n",
    "facet_markers = np.hstack(facet_markers).astype(np.int32)\n",
    "sorted_facets = np.argsort(facet_indices)\n",
    " \n",
    "# Add these marked facets as \"mesh tags\" for later use in BCs.\n",
    "facet_tags = mesh.meshtags(domain, fdim, facet_indices[sorted_facets], facet_markers[sorted_facets])\n",
    "\n",
    "# create connectivity between the 2D and 3D entities\n",
    "domain.topology.create_connectivity(domain.topology.dim-1, domain.topology.dim)"
   ]
  },
  {
   "cell_type": "markdown",
   "id": "484e95c9",
   "metadata": {},
   "source": [
    "Define the surface area measure for integration over the right boundary for the traction boundary condition:"
   ]
  },
  {
   "cell_type": "code",
   "execution_count": 6,
   "id": "f3e4e4bc",
   "metadata": {},
   "outputs": [],
   "source": [
    "# dx for integration over the domain\n",
    "# dx = ufl.Measure('dx', domain=domain, metadata={'quadrature_degree': 2})\n",
    "\n",
    "# ds for integration over the surface\n",
    "ds = ufl.Measure('ds', domain=domain, subdomain_data=facet_tags, metadata={'quadrature_degree':2})\n",
    "\n",
    "# normal vector to the surface\n",
    "n = ufl.FacetNormal(domain)"
   ]
  },
  {
   "cell_type": "markdown",
   "id": "48582dc5",
   "metadata": {},
   "source": [
    "Implement Dirichlet boundary condition on displacement next:"
   ]
  },
  {
   "cell_type": "code",
   "execution_count": 7,
   "id": "cb91676a",
   "metadata": {},
   "outputs": [],
   "source": [
    "# Bottom surface displacement degrees of freedom\n",
    "Btm_dofs_u1 = fem.locate_dofs_topological(Vvec.sub(0), facet_tags.dim, facet_tags.find(1))\n",
    "Btm_dofs_u2 = fem.locate_dofs_topological(Vvec.sub(1), facet_tags.dim, facet_tags.find(1))\n",
    "Btm_dofs_u3 = fem.locate_dofs_topological(Vvec.sub(2), facet_tags.dim, facet_tags.find(1))\n",
    "\n",
    "# Dirichlet BCs into one vector\n",
    "bcs_0 = dirichletbc(0.0, Btm_dofs_u1, Vvec.sub(0)) \n",
    "bcs_1 = dirichletbc(0.0, Btm_dofs_u2, Vvec.sub(1)) \n",
    "bcs_2 = dirichletbc(0.0, Btm_dofs_u3, Vvec.sub(2)) \n",
    "\n",
    "bcs = [bcs_0, bcs_1, bcs_2]"
   ]
  },
  {
   "cell_type": "markdown",
   "id": "d2c19bda",
   "metadata": {},
   "source": [
    "Next, we define the body force and traction:"
   ]
  },
  {
   "cell_type": "code",
   "execution_count": 8,
   "id": "a7d02706",
   "metadata": {},
   "outputs": [],
   "source": [
    "class traction_expr():\n",
    "    def __init__(self, f_twist, f_bend, omega_H, omega_W):\n",
    "        self.f_twist = f_twist\n",
    "        self.f_bend = f_bend\n",
    "        self.omega_H = omega_H\n",
    "        self.omega_W = omega_W\n",
    "\n",
    "    def __call__(self, x):\n",
    "        print('twist', self.f_twist.value, 'bend', self.f_bend.value)\n",
    "        vals = np.zeros_like(x)\n",
    "        vals[1,:] = self.f_twist*((x[2, :] - self.omega_H/2)/(np.sqrt(np.pow(x[1, :] - self.omega_W/2, 2) + np.pow(x[2, :] - self.omega_H/2, 2)) + 0.01))\n",
    "        vals[2,:] = -self.f_twist*((x[1, :] - self.omega_W/2)/(np.sqrt(np.pow(x[1, :] - self.omega_W/2, 2) + np.pow(x[2, :] - self.omega_H/2, 2)) + 0.01)) - self.f_bend\n",
    "        \n",
    "        # vals = np.zeros_like(x)\n",
    "        # vals[1, :] = 1.\n",
    "        return vals"
   ]
  },
  {
   "cell_type": "code",
   "execution_count": 9,
   "id": "97ea1b8b",
   "metadata": {},
   "outputs": [
    {
     "name": "stdout",
     "output_type": "stream",
     "text": [
      "twist 0.0 bend 0.0\n"
     ]
    }
   ],
   "source": [
    "# body force\n",
    "b = Constant(domain, PETSc.ScalarType((0., 0., 0.)))#, PETSc.ScalarType)\n",
    "\n",
    "# traction\n",
    "# traction_expr = Expression((\"0\", \\\n",
    "#         \"f_twist*((x[2] - omega_H/2)/(sqrt(pow(x[1] - omega_W/2, 2) + pow(x[2] - omega_H/2, 2)) + 0.01))\", \\\n",
    "#         \"-f_twist*((x[1] - omega_W/2)/(sqrt(pow(x[1] - omega_W/2, 2) + pow(x[2] - omega_H/2, 2)) + 0.01)) - f_bend\"), \\\n",
    "#         degree=2, f_twist=f_twist, f_bend=f_bend, omega_H=omega_H, omega_W=omega_W)\n",
    "t_expr = traction_expr(f_twist, f_bend, omega_H, omega_W)\n",
    "t_field = Function(Vvec)\n",
    "t_field.interpolate(t_expr)"
   ]
  },
  {
   "cell_type": "markdown",
   "id": "ce29dd67",
   "metadata": {},
   "source": [
    "Finally, we are ready to define the bilinear and linear forms associated with the boundary value problem on displacement:"
   ]
  },
  {
   "cell_type": "code",
   "execution_count": 10,
   "id": "48ee00de",
   "metadata": {},
   "outputs": [],
   "source": [
    "# Spatial dimension\n",
    "d = len(u)\n",
    "\n",
    "# Identity tensor\n",
    "I = variable(ufl.Identity(d))\n",
    "\n",
    "# Deformation gradient\n",
    "F = variable(I + ufl.grad(u))\n",
    "\n",
    "# Right Cauchy-Green tensor\n",
    "C = variable(F.T * F)\n",
    "\n",
    "# Invariants of deformation tensors\n",
    "Ic = variable(ufl.tr(C))\n",
    "J = variable(ufl.det(F))\n",
    "\n",
    "# Stored strain energy density (compressible neo-Hookean model)\n",
    "W = (mu / 2) * (J**(-2/3)*Ic - 3) + (K/2)*(J - 1)**2\n",
    "\n",
    "# First Piola-Kirchhoff stress tensor\n",
    "P = ufl.diff(W, F)"
   ]
  },
  {
   "cell_type": "code",
   "execution_count": 11,
   "id": "56783faf",
   "metadata": {},
   "outputs": [],
   "source": [
    "# semilinear form\n",
    "a = inner(grad(v), P)*dx\n",
    "\n",
    "# linear form\n",
    "L = dot(v, b)*dx + dot(v, t_field)*ds\n",
    "\n",
    "# residual form\n",
    "R = L - a"
   ]
  },
  {
   "cell_type": "markdown",
   "id": "c3368eb3",
   "metadata": {},
   "source": [
    "Compute post-processing quantities such as von-Mises stress that is defined as\n",
    "\\begin{equation}\n",
    "\\sigma_v = \\sqrt{\\frac{3}{2}\\boldsymbol{\\sigma}_{dev}\\boldsymbol{\\colon}\\boldsymbol{\\sigma}_{dev}} = \\sqrt{\\frac{3}{2}\\sigma_{dev, ij} \\sigma_{dev, ij}}\\;, \\quad \\text{where}\\quad  \\boldsymbol{\\sigma}_{dev} = \\text{deviatoric stress} = \\boldsymbol{\\sigma} - \\frac{\\mathrm{tr}(\\boldsymbol{\\sigma})}{3}\\boldsymbol{I} \n",
    "\\end{equation}\n",
    "where $\\sigma = J^{-1} \\boldsymbol{P}\\boldsymbol{F}^T$."
   ]
  },
  {
   "cell_type": "code",
   "execution_count": 12,
   "id": "bc21b912",
   "metadata": {},
   "outputs": [
    {
     "name": "stderr",
     "output_type": "stream",
     "text": [
      "ld: warning: duplicate -rpath '/Users/prashant/opt/anaconda3/envs/confenx/lib' ignored\n",
      "ld: warning: duplicate -rpath '/Users/prashant/opt/anaconda3/envs/confenx/lib' ignored\n"
     ]
    }
   ],
   "source": [
    "# cauchy stress from first Piola-Kirchhoff stress\n",
    "sigma = P*F.T/J\n",
    "\n",
    "# deviatoric stress\n",
    "sigma_dev = P - (1./3)*tr(sigma)*Identity(d)  # deviatoric stress\n",
    "vm = sqrt((3/2)*inner(sigma_dev, sigma_dev))\n",
    "sigma_vm_expr = Expression(vm, V.element.interpolation_points())\n",
    "sigma_vm = Function(V, name = 'von Mises stress')\n",
    "# sigma_vm.interpolate(sigma_vm_expr)\n",
    "\n",
    "# Compute magnitude of displacement\n",
    "u_magnitude_expr = Expression(sqrt(dot(u, u)), V.element.interpolation_points())\n",
    "u_magnitude = Function(V, name = 'magnitude(u)')\n",
    "# u_magnitude.interpolate(u_magnitude_expr)\n",
    "\n",
    "\n",
    "# output results\n",
    "results_folder = \"fwd_result/hyperelastic\"\n",
    "os.makedirs(results_folder, exist_ok=True)\n",
    "filename = results_folder + \"/solution\"\n",
    "file_results = io.VTXWriter(domain.comm, filename + \".bp\", [u, sigma_vm, u_magnitude], engine=\"BP4\")\n",
    "\n",
    "def write_sim(t):\n",
    "    sigma_vm.interpolate(sigma_vm_expr)\n",
    "    u_magnitude.interpolate(u_magnitude_expr)\n",
    "    file_results.write(t)\n",
    "\n",
    "    u_mag_max = u_magnitude.x.array.max()\n",
    "    u_mag_min = u_magnitude.x.array.min()\n",
    "    print('min/max u:', u_mag_min, u_mag_max)"
   ]
  },
  {
   "cell_type": "markdown",
   "id": "af217380",
   "metadata": {},
   "source": [
    "Since this is a nonlinear problem, we use Fenics in-built nonlinear solver. We start by creating a nonlinear problem and assign values to key solver parameters. "
   ]
  },
  {
   "cell_type": "code",
   "execution_count": 13,
   "id": "3dc99efd",
   "metadata": {},
   "outputs": [
    {
     "name": "stderr",
     "output_type": "stream",
     "text": [
      "ld: warning: duplicate -rpath '/Users/prashant/opt/anaconda3/envs/confenx/lib' ignored\n",
      "ld: warning: duplicate -rpath '/Users/prashant/opt/anaconda3/envs/confenx/lib' ignored\n",
      "ld: warning: duplicate -rpath '/Users/prashant/opt/anaconda3/envs/confenx/lib' ignored\n",
      "ld: warning: duplicate -rpath '/Users/prashant/opt/anaconda3/envs/confenx/lib' ignored\n"
     ]
    }
   ],
   "source": [
    "problem = NonlinearProblem(R, u, bcs)\n",
    "\n",
    "solver = NewtonSolver(domain.comm, problem)\n",
    "\n",
    "# Set Newton solver options\n",
    "solver.atol = 1e-8\n",
    "solver.rtol = 1e-8\n",
    "solver.convergence_criterion = \"incremental\""
   ]
  },
  {
   "cell_type": "code",
   "execution_count": null,
   "id": "bfcb455e",
   "metadata": {},
   "outputs": [
    {
     "name": "stdout",
     "output_type": "stream",
     "text": [
      "min/max u: 0.0 0.0\n",
      "twist 2000.0 bend 500.0\n",
      "Time step 1, Number of iterations 6, Twist Load 2000.0, Bending Load 500.0\n",
      "min/max u: 0.0 0.05514760700915548\n",
      "twist 4000.0 bend 1000.0\n"
     ]
    }
   ],
   "source": [
    "log.set_log_level(log.LogLevel.INFO)\n",
    "\n",
    "write_sim(0.0)\n",
    "\n",
    "for n in range(1, 10):\n",
    "    f_twist.value = (n/10.) * f_twist_max\n",
    "    f_bend.value = (n/10.) * f_bend_max\n",
    "    t_field.interpolate(t_expr)\n",
    "    num_its, converged = solver.solve(u)\n",
    "    assert (converged)\n",
    "    print(f\"Time step {n}, Number of iterations {num_its}, Twist Load {f_twist.value}, Bending Load {f_bend.value}\")\n",
    "    write_sim(n)"
   ]
  },
  {
   "cell_type": "markdown",
   "id": "0bfcc7f5",
   "metadata": {},
   "source": [
    "### Plotting results in paraview\n",
    "\n",
    "<img src=\"results/linear_elastic_results.png\" style=\"width:600px;\">\n"
   ]
  },
  {
   "cell_type": "code",
   "execution_count": null,
   "id": "17ce37d4",
   "metadata": {},
   "outputs": [],
   "source": []
  }
 ],
 "metadata": {
  "kernelspec": {
   "display_name": "confenx",
   "language": "python",
   "name": "python3"
  },
  "language_info": {
   "codemirror_mode": {
    "name": "ipython",
    "version": 3
   },
   "file_extension": ".py",
   "mimetype": "text/x-python",
   "name": "python",
   "nbconvert_exporter": "python",
   "pygments_lexer": "ipython3",
   "version": "3.13.3"
  }
 },
 "nbformat": 4,
 "nbformat_minor": 5
}
