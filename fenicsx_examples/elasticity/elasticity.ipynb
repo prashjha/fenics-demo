{
 "cells": [
  {
   "cell_type": "markdown",
   "id": "85994fce",
   "metadata": {},
   "source": [
    "# Deformation of solids\n",
    "\n",
    "**Prashant K. Jha**\n",
    "\n",
    "*School of Mechanical and Design Engineering, University of Portsmouth, Portsmouth, UK*"
   ]
  },
  {
   "cell_type": "markdown",
   "id": "f7152901",
   "metadata": {},
   "source": [
    "In this tutorial, we model the deformation of elastic materials using fenics. The problems considered include:\n",
    "1. Deformation of a linear elastic material modeled using small deformation theory. This results in a linear variational problem. I\n",
    "2. Deformation of an orthotropic elastic material (as an example of anisotropic material). \n",
    "3. Deformation of a hyperelastic material assuming large deformation theory. The resulting partial differential equation is highly nonlinear in the displacement.\n",
    "\n",
    "## Small deformation of linear elastic materials\n",
    "\n",
    "Consider a 3-D beam $\\Omega = \\{(x,y,z): x\\in (0, L),\\; y\\in (0,W),\\; z\\in (0,H)\\}$ as shown in the figure. The beam is fixed on the left surface (at $x=0$), $\\Gamma_l = \\{(x,y,z) \\in \\Omega: x = 0\\}$, and is subjected to external traction $\\boldsymbol{t}$ on the right surface (at $x=L$), $\\Gamma_r = \\{(x,y,z) \\in \\Omega: x = L\\}$. The traction is such that the beam deflects in the downward direction and twists about the axis of the beam. \n",
    "\n",
    "<img src=\"results/linear_elastic_problem.png\" style=\"width:400px;\">\n",
    "\n",
    "Suppose $\\boldsymbol{u}(\\boldsymbol{x})$ denotes the displacement of material point $\\boldsymbol{x} \\in \\Omega$. Assuming that small deformation theory is valid, the linearized strain tensor $\\boldsymbol{\\epsilon}$ is given by\n",
    "\\begin{equation}\n",
    "\\boldsymbol{\\epsilon}(\\boldsymbol{x}; \\boldsymbol{u}) = \\frac{1}{2}\\left[ \\nabla \\boldsymbol{u}(\\boldsymbol{x}) + \\nabla \\boldsymbol{u}(\\boldsymbol{x})^T \\right].\n",
    "\\end{equation}\n",
    "Let $\\boldsymbol{\\sigma}(\\boldsymbol{x})$ is the stress tensor in the body. \n",
    "\n",
    "The equilibrium configuration of the body under external traction $\\boldsymbol{t}$ on the boundary and body force $\\boldsymbol{f}$ is the one where the displacement $\\boldsymbol{u}$ satisfies the following boundary value problem:\n",
    "\\begin{align}\n",
    "-\\nabla \\cdot \\boldsymbol{\\sigma} &= \\boldsymbol{f} && \\qquad \\text{in }\\;\\Omega, \\\\\n",
    "\\boldsymbol{u} &= \\boldsymbol{0} && \\qquad \\text{on }\\;\\Gamma_{l}, \\\\\n",
    "\\boldsymbol{\\sigma}\\boldsymbol{n} &= \\boldsymbol{t} && \\qquad \\text{on }\\;\\Gamma_{r}, \\\\\n",
    "\\boldsymbol{\\sigma}\\boldsymbol{n} &= \\boldsymbol{0} && \\qquad \\text{on }\\;\\partial \\Omega - (\\Gamma_{r}\\cup \\Gamma_{l}), \\\\\n",
    "\\end{align}\n",
    "where, $\\boldsymbol{n}$ is the outward unit normal vector at the boundary, $\\partial \\Omega$ the boundary of the domain $\\Omega$, and $\\partial \\Omega - (\\Gamma_{r}\\cup \\Gamma_{l})$ the boundary of the domain excluding the left and right surfaces (at $x=0$ and $x=L$).\n",
    "\n",
    "### Constitutive law\n",
    "\n",
    "It remains to show how stress tensor is related to the strain tensor, i.e., specify the constitutive law for the material. We assume isotropic linear elastic material for which the stress-strain relation is given by\n",
    "\\begin{equation}\n",
    "\\boldsymbol{\\sigma} = \\lambda \\mathrm{tr}(\\boldsymbol{\\epsilon}) \\boldsymbol{I} + 2\\mu \\boldsymbol{\\epsilon},\n",
    "\\end{equation}\n",
    "where $(\\lambda, \\mu)$ are Lam\\`e parameters, $\\mathrm{tr}(\\boldsymbol{\\epsilon}) = \\epsilon_{ii} = \\nabla \\cdot \\boldsymbol{u}$ the trace of the tensor $\\boldsymbol{\\epsilon}$, and $\\boldsymbol{I} = \\delta_{ij}$ the identity tensor in 3-D (in 2-D if this was a 2-D problem).\n",
    "\n",
    "### Variational formulation\n",
    "\n",
    "Let $V$ be the appropriate function space for the displacement (functions in $V$ are vector-valued functions). Due to homogeneous Dirichlet boundary condition, the trial and test functions belong to the same function space $V$. \n",
    "\n",
    "Multiplying the strong form of the problem by test function $\\boldsymbol{v}\\in V$ and integrating it over the domain $\\Omega$ gives:\n",
    "\\begin{equation}\n",
    "-\\int_{\\Omega} \\left(\\nabla \\cdot \\boldsymbol{\\sigma}\\right) \\cdot \\boldsymbol{v} \\,d\\boldsymbol{x} = \\int_{\\Omega} \\boldsymbol{f} \\cdot \\boldsymbol{v} \\,d\\boldsymbol{x} .\n",
    "\\end{equation}\n",
    "The term on the left can also be written using integration by parts:\n",
    "\\begin{equation}\n",
    "-\\int_{\\Omega} \\left(\\nabla \\cdot \\boldsymbol{\\sigma}\\right) \\cdot \\boldsymbol{v} \\,d\\boldsymbol{x} = -\\int_{\\partial \\Omega} \\left(\\boldsymbol{\\sigma}\\boldsymbol{n}\\right)\\cdot \\boldsymbol{v} \\,d\\boldsymbol{x} + \\int_{\\Omega} \\boldsymbol{\\sigma} \\boldsymbol{\\colon} \\nabla \\boldsymbol{v} \\,d\\boldsymbol{x} = -\\int_{\\Gamma_{r}} \\boldsymbol{t}\\cdot \\boldsymbol{v} \\,d\\boldsymbol{x} + \\int_{\\Omega} \\boldsymbol{\\sigma} \\boldsymbol{\\colon} \\nabla \\boldsymbol{v} \\,d\\boldsymbol{x}.\n",
    "\\end{equation}\n",
    "Using the above, the variational problem can be stated as follows:\n",
    "\\begin{equation}\n",
    "\\text{find }\\;\\boldsymbol{u}\\in V \\;\\text{such that }\\qquad \\underbrace{\\int_{\\Omega} \\boldsymbol{\\sigma} \\boldsymbol{\\colon} \\nabla \\boldsymbol{v} \\,d\\boldsymbol{x}}_{=: a(\\boldsymbol{u}, \\boldsymbol{v})} = \\underbrace{\\int_{\\Omega} \\boldsymbol{f} \\cdot \\boldsymbol{v} \\,d\\boldsymbol{x} + \\int_{\\Gamma_{r}} \\boldsymbol{t}\\cdot \\boldsymbol{v} \\,d\\boldsymbol{x}}_{=:l(\\boldsymbol{v})} \\qquad \\text{for all }\\; \\boldsymbol{v}\\in V,\n",
    "\\end{equation}\n",
    "where, $\\boldsymbol{\\sigma}$ is related to $\\boldsymbol{u}$ via the constitutive law, and $a(\\cdot, \\cdot)$ and $l(\\cdot)$ are bilinear and linear forms. \n",
    "\n",
    "### Geometrical, material, and external loading parameters and functions\n",
    "\n",
    "In what follows, we let $L = 1$ m, $W = H = 0.2$ m. We assume no body force, i.e., $\\boldsymbol{f} = \\boldsymbol{0}$. The traction loading $\\boldsymbol{t} = (t_x, t_y, t_z)$ on the right boundary $\\Gamma_{r}$ is given by, for all $\\boldsymbol{x} = (x, y, z) \\in \\Gamma_{r}$:\n",
    "\\begin{equation}\n",
    "t_x(\\boldsymbol{x}) = 0, \\quad t_y(\\boldsymbol{x}) =  \\frac{f_{twist}(z - H/2)}{0.01 + r}, \\quad t_z(\\boldsymbol{x}) = - f_{bend} - \\frac{f_{twist}(y - W/2)}{0.01 + r}, \\quad \\text{where } r =\\sqrt{(y - W/2)^2 + (z - H/2)^2}.\n",
    "\\end{equation}\n",
    "Here, $f_{twist}$ and $f_{bend}$ are magnitudes of force per unit area controlling the twisting and bending loadings. For the numerics, we fix \n",
    "\\begin{equation}\n",
    "f_{twist} = 2\\times 10^4\\text{ N/m$^2$}, \\qquad f_{bend} = 5\\times 10^3\\text{ N/m$^2$}.\n",
    "\\end{equation}\n",
    "\n",
    "As for the material properties, we take Young's modulus $E = 10^7$ Pa and Poisson ratio $\\nu = 0.3$. These properties are typical of rubber-like materials. Given $(E, \\nu)$, Lam\\`e parameters can be determined using:\n",
    "\\begin{equation}\n",
    "\\lambda = \\frac{E\\nu}{(1+\\nu)(1-2\\nu)}, \\qquad \\mu = \\frac{E}{2(1+\\nu)}.\n",
    "\\end{equation}\n",
    "\n",
    "# Results\n",
    "\n",
    "<img src=\"results/linear_elastic_results.png\" style=\"width:600px;\">\n",
    "\n",
    "### Fenics implementation\n",
    "\n",
    "We start by loading the relevant packages:"
   ]
  },
  {
   "cell_type": "code",
   "execution_count": 1,
   "id": "14534259",
   "metadata": {},
   "outputs": [],
   "source": [
    "import dolfinx\n",
    "import numpy as np\n",
    "import sys\n",
    "import os\n",
    "\n",
    "from mpi4py import MPI\n",
    "comm = MPI.COMM_WORLD\n",
    "rank = comm.Get_rank()\n",
    "\n",
    "from petsc4py import PETSc\n",
    "\n",
    "# specific functions from dolfinx modules\n",
    "from dolfinx import fem, mesh, io, plot, log\n",
    "from dolfinx.fem import (Constant, dirichletbc, Function, functionspace, Expression )\n",
    "from dolfinx.fem.petsc import LinearProblem\n",
    "from dolfinx.io import VTXWriter\n",
    "\n",
    "\n",
    "# specific functions from ufl modules\n",
    "import ufl\n",
    "from ufl import (TestFunctions,TestFunction, TrialFunction, Identity, grad, det, div, dev, inv, tr, sqrt, conditional ,\\\n",
    "                 gt, dx, inner, derivative, dot, ln, split, outer, cos, acos, lt, eq, ge, le, exp)\n",
    "\n",
    "# basix finite elements\n",
    "import basix\n",
    "from basix.ufl import element, mixed_element, quadrature_element\n",
    "\n",
    "# for plotting\n",
    "import matplotlib.pyplot as plt\n",
    "plt.close('all')\n",
    "\n",
    "from datetime import datetime\n",
    "\n",
    "log.set_log_level(log.LogLevel.WARNING)"
   ]
  },
  {
   "cell_type": "markdown",
   "id": "82a9386c",
   "metadata": {},
   "source": [
    "Next, we set values of different parameters in the simulation:"
   ]
  },
  {
   "cell_type": "code",
   "execution_count": 2,
   "id": "e92d27be",
   "metadata": {},
   "outputs": [],
   "source": [
    "# geometry \n",
    "omega_L, omega_W, omega_H = 1., 0.2, 0.2\n",
    "\n",
    "domain = mesh.create_box(MPI.COMM_WORLD, [[0.0,0.0,0.0], [omega_L, omega_W, omega_H]], [20, 4, 4], mesh.CellType.tetrahedron)\n",
    "\n",
    "# get nodal coordinates in reference configuration\n",
    "x = ufl.SpatialCoordinate(domain) \n",
    "\n",
    "# material\n",
    "E = Constant(domain, PETSc.ScalarType(1.e+7)) #10 MPa\n",
    "nu = Constant(domain, PETSc.ScalarType(0.3))\n",
    "lamda = E*nu/(1+nu)/(1-2*nu)\n",
    "mu = E/(2*(1+nu))\n",
    "\n",
    "# loading\n",
    "f_twist_max = 1.e+6\n",
    "f_bend_max = 5.e+4\n",
    "\n",
    "f_twist = Constant(domain,PETSc.ScalarType(0.))\n",
    "f_bend = Constant(domain,PETSc.ScalarType(0.))"
   ]
  },
  {
   "cell_type": "markdown",
   "id": "c5f6a218",
   "metadata": {},
   "source": [
    "Define vector finite element function space and scalar finite element space (scalar function space will be used to compute the post-processing quantities such as magnitude of the displacement and von-Mises stress):"
   ]
  },
  {
   "cell_type": "code",
   "execution_count": 3,
   "id": "bbab24dd",
   "metadata": {},
   "outputs": [],
   "source": [
    "# specify order of interpolation\n",
    "p_order = 1\n",
    "\n",
    "# create FE element (vector)\n",
    "Uvec = element(\"Lagrange\", domain.basix_cell(), p_order, shape=(3,))\n",
    "\n",
    "# FE function space (vector)\n",
    "Vvec = fem.functionspace(domain, Uvec)\n",
    "\n",
    "# space for von Mises stress (scalar)\n",
    "U = element(\"Lagrange\", domain.basix_cell(), p_order)\n",
    "V = fem.functionspace(domain, U)"
   ]
  },
  {
   "cell_type": "markdown",
   "id": "468c6d05",
   "metadata": {},
   "source": [
    "We also define the trial and test function, and infer the spatial dimension of the problem:"
   ]
  },
  {
   "cell_type": "code",
   "execution_count": 4,
   "id": "2a035c9b",
   "metadata": {},
   "outputs": [
    {
     "name": "stdout",
     "output_type": "stream",
     "text": [
      "d =  3\n"
     ]
    }
   ],
   "source": [
    "u_trial = TrialFunction(Vvec)\n",
    "v = TestFunction(Vvec)\n",
    "\n",
    "# spatial dimension of the problem\n",
    "d = len(u_trial)\n",
    "print('d = ', d)"
   ]
  },
  {
   "cell_type": "markdown",
   "id": "65e15c39",
   "metadata": {},
   "source": [
    "Next, define boundaries for boundary conditions:"
   ]
  },
  {
   "cell_type": "code",
   "execution_count": 5,
   "id": "61a949e8",
   "metadata": {},
   "outputs": [],
   "source": [
    "# define edges/surfaces of beam\n",
    "def xBot(x):\n",
    "    return np.isclose(x[0], 0)\n",
    "def xTop(x):\n",
    "    return np.isclose(x[0], omega_L)\n",
    "def yBot(x):\n",
    "    return np.isclose(x[1], 0)\n",
    "def yTop(x):\n",
    "    return np.isclose(x[1], omega_W)\n",
    "def zBot(x):\n",
    "    return np.isclose(x[2], 0)\n",
    "def zTop(x):\n",
    "    return np.isclose(x[2], omega_H)\n",
    "    \n",
    "# mark the sub-domains\n",
    "boundaries = [(1, xBot),(2,xTop),(3,yBot),(4,yTop),(5,zBot),(6,zTop)]\n",
    "\n",
    "# build collections of facets on each subdomain and mark them appropriately.\n",
    "facet_indices, facet_markers = [], [] \n",
    "fdim = domain.topology.dim - 1\n",
    "for (marker, locator) in boundaries:\n",
    "    facets = mesh.locate_entities(domain, fdim, locator) \n",
    "    facet_indices.append(facets) \n",
    "    facet_markers.append(np.full_like(facets, marker)) \n",
    "\n",
    "# Format the facet indices and markers as required for use in dolfinx.\n",
    "facet_indices = np.hstack(facet_indices).astype(np.int32)\n",
    "facet_markers = np.hstack(facet_markers).astype(np.int32)\n",
    "sorted_facets = np.argsort(facet_indices)\n",
    " \n",
    "# Add these marked facets as \"mesh tags\" for later use in BCs.\n",
    "facet_tags = mesh.meshtags(domain, fdim, facet_indices[sorted_facets], facet_markers[sorted_facets])\n",
    "\n",
    "# create connectivity between the 2D and 3D entities\n",
    "domain.topology.create_connectivity(domain.topology.dim-1, domain.topology.dim)"
   ]
  },
  {
   "cell_type": "markdown",
   "id": "484e95c9",
   "metadata": {},
   "source": [
    "Define the surface area measure for integration over the right boundary for the traction boundary condition:"
   ]
  },
  {
   "cell_type": "code",
   "execution_count": 6,
   "id": "f3e4e4bc",
   "metadata": {},
   "outputs": [],
   "source": [
    "# dx for integration over the domain\n",
    "# dx = ufl.Measure('dx', domain=domain, metadata={'quadrature_degree': 2})\n",
    "\n",
    "# ds for integration over the surface\n",
    "ds = ufl.Measure('ds', domain=domain, subdomain_data=facet_tags, metadata={'quadrature_degree':2})"
   ]
  },
  {
   "cell_type": "markdown",
   "id": "48582dc5",
   "metadata": {},
   "source": [
    "Implement Dirichlet boundary condition on displacement next:"
   ]
  },
  {
   "cell_type": "code",
   "execution_count": 7,
   "id": "cb91676a",
   "metadata": {},
   "outputs": [],
   "source": [
    "# Bottom surface displacement degrees of freedom\n",
    "Btm_dofs_u1 = fem.locate_dofs_topological(Vvec.sub(0), facet_tags.dim, facet_tags.find(1))\n",
    "Btm_dofs_u2 = fem.locate_dofs_topological(Vvec.sub(1), facet_tags.dim, facet_tags.find(1))\n",
    "Btm_dofs_u3 = fem.locate_dofs_topological(Vvec.sub(2), facet_tags.dim, facet_tags.find(1))\n",
    "\n",
    "# Dirichlet BCs into one vector\n",
    "bcs_0 = dirichletbc(0.0, Btm_dofs_u1, Vvec.sub(0)) \n",
    "bcs_1 = dirichletbc(0.0, Btm_dofs_u2, Vvec.sub(1)) \n",
    "bcs_2 = dirichletbc(0.0, Btm_dofs_u3, Vvec.sub(2)) \n",
    "\n",
    "bcs = [bcs_0, bcs_1, bcs_2]"
   ]
  },
  {
   "cell_type": "markdown",
   "id": "d2c19bda",
   "metadata": {},
   "source": [
    "Next, we define the body force and traction:"
   ]
  },
  {
   "cell_type": "code",
   "execution_count": 8,
   "id": "a7d02706",
   "metadata": {},
   "outputs": [],
   "source": [
    "def traction(x):\n",
    "\n",
    "    vals = np.zeros((domain.geometry.dim, x.shape[1]))\n",
    "    # print(x.shape)\n",
    "    \n",
    "    vals[1] = f_twist*((x[2] - omega_H/2)/(sqrt(pow(x[1] - omega_W/2, 2) + pow(x[2] - omega_H/2, 2)) + 0.01))\n",
    "    vals[2] = -f_twist*((x[1] - omega_W/2)/(sqrt(pow(x[1] - omega_W/2, 2) + pow(x[2] - omega_H/2, 2)) + 0.01)) - f_bend\n",
    "    return vals\n",
    "\n",
    "class traction_expr():\n",
    "    def __init__(self, f_twist, f_bend, omega_H, omega_W):\n",
    "        self.f_twist = f_twist\n",
    "        self.f_bend = f_bend\n",
    "        self.omega_H = omega_H\n",
    "        self.omega_W = omega_W\n",
    "\n",
    "    def __call__(self, x):\n",
    "        vals = np.zeros_like(x)\n",
    "        vals[1,:] = self.f_twist*((x[2, :] - self.omega_H/2)/(np.sqrt(np.pow(x[1, :] - self.omega_W/2, 2) + np.pow(x[2, :] - self.omega_H/2, 2)) + 0.01))\n",
    "        vals[2,:] = -self.f_twist*((x[1, :] - self.omega_W/2)/(np.sqrt(np.pow(x[1, :] - self.omega_W/2, 2) + np.pow(x[2, :] - self.omega_H/2, 2)) + 0.01)) - self.f_bend\n",
    "        \n",
    "        # vals = np.zeros_like(x)\n",
    "        # vals[1, :] = 1.\n",
    "        return vals"
   ]
  },
  {
   "cell_type": "code",
   "execution_count": 9,
   "id": "97ea1b8b",
   "metadata": {},
   "outputs": [],
   "source": [
    "# body force\n",
    "f = Constant(domain, PETSc.ScalarType((0., 0., 0.)))#, PETSc.ScalarType)\n",
    "\n",
    "# traction\n",
    "# traction_expr = Expression((\"0\", \\\n",
    "#         \"f_twist*((x[2] - omega_H/2)/(sqrt(pow(x[1] - omega_W/2, 2) + pow(x[2] - omega_H/2, 2)) + 0.01))\", \\\n",
    "#         \"-f_twist*((x[1] - omega_W/2)/(sqrt(pow(x[1] - omega_W/2, 2) + pow(x[2] - omega_H/2, 2)) + 0.01)) - f_bend\"), \\\n",
    "#         degree=2, f_twist=f_twist, f_bend=f_bend, omega_H=omega_H, omega_W=omega_W)\n",
    "t_expr = traction_expr(f_twist, f_bend, omega_H, omega_W)\n",
    "t_field = Function(Vvec)\n",
    "t_field.interpolate(t_expr)"
   ]
  },
  {
   "cell_type": "markdown",
   "id": "ce29dd67",
   "metadata": {},
   "source": [
    "Finally, we are ready to define the bilinear and linear forms associated with the boundary value problem on displacement:"
   ]
  },
  {
   "cell_type": "code",
   "execution_count": 10,
   "id": "56783faf",
   "metadata": {},
   "outputs": [],
   "source": [
    "# Define strain and stress\n",
    "def epsilon(u):\n",
    "    return 0.5*(grad(u) + grad(u).T)\n",
    "    #return sym(nabla_grad(u))\n",
    "\n",
    "def sigma(u):\n",
    "    return lamda*div(u)*Identity(d) + 2*mu*epsilon(u)\n",
    "\n",
    "# bilinear form\n",
    "a = inner(sigma(u_trial), epsilon(v))*dx\n",
    "\n",
    "# linear form\n",
    "L = inner(f, v)*dx + inner(t_field, v)*ds(2)"
   ]
  },
  {
   "cell_type": "code",
   "execution_count": 11,
   "id": "b30fb21b",
   "metadata": {},
   "outputs": [],
   "source": [
    "u = Function(Vvec, name = \"u\")\n",
    "\n",
    "problem = LinearProblem(a, L, bcs=bcs, u = u, petsc_options={\"ksp_type\": \"preonly\", \"pc_type\": \"lu\"})\n",
    "# problem.solve()"
   ]
  },
  {
   "cell_type": "markdown",
   "id": "06168597",
   "metadata": {},
   "source": [
    "Compute post-processing quantities such as von-Mises stress that is defined as\n",
    "\\begin{equation}\n",
    "\\sigma_v = \\sqrt{\\frac{3}{2}\\boldsymbol{\\sigma}_{dev}\\boldsymbol{\\colon}\\boldsymbol{\\sigma}_{dev}} = \\sqrt{\\frac{3}{2}\\sigma_{dev, ij} \\sigma_{dev, ij}}\\;, \\quad \\text{where}\\quad  \\boldsymbol{\\sigma}_{dev} = \\text{deviatoric stress} = \\boldsymbol{\\sigma} - \\frac{\\mathrm{tr}(\\boldsymbol{\\sigma})}{3}\\boldsymbol{I} \n",
    "\\end{equation}\n",
    "and magnitude of the displacement."
   ]
  },
  {
   "cell_type": "code",
   "execution_count": 12,
   "id": "bf53f8f0",
   "metadata": {},
   "outputs": [
    {
     "name": "stdout",
     "output_type": "stream",
     "text": [
      "min/max u: 0.0 0.0\n"
     ]
    }
   ],
   "source": [
    "# Post-processing: compute von Mises stress\n",
    "sigma_dev = sigma(u) - (1./3)*tr(sigma(u))*Identity(d)  # deviatoric stress\n",
    "vm = sqrt((3/2)*inner(sigma_dev, sigma_dev))\n",
    "sigma_vm_expr = Expression(vm, V.element.interpolation_points())\n",
    "sigma_vm = Function(V, name = 'von Mises stress')\n",
    "sigma_vm.interpolate(sigma_vm_expr)\n",
    "\n",
    "# Compute magnitude of displacement\n",
    "u_magnitude_expr = Expression(sqrt(dot(u, u)), V.element.interpolation_points())\n",
    "u_magnitude = Function(V, name = 'magnitude(u)')\n",
    "u_magnitude.interpolate(u_magnitude_expr)\n",
    "\n",
    "u_mag_max = u_magnitude.x.array.max()\n",
    "u_mag_min = u_magnitude.x.array.min()\n",
    "\n",
    "print('min/max u:', u_mag_min, u_mag_max)\n",
    "\n",
    "\n",
    "# output results\n",
    "results_folder = \"fwd_result/linear_elastic\"\n",
    "os.makedirs(results_folder, exist_ok=True)\n",
    "filename = results_folder + \"/solution\"\n",
    "file_results = io.VTXWriter(domain.comm, filename + \".bp\", [u, sigma_vm, u_magnitude], engine=\"BP4\")\n",
    "\n",
    "def write_sim(t):\n",
    "    sigma_vm.interpolate(sigma_vm_expr)\n",
    "    u_magnitude.interpolate(u_magnitude_expr)\n",
    "    file_results.write(t)\n",
    "\n",
    "    u_mag_max = u_magnitude.x.array.max()\n",
    "    u_mag_min = u_magnitude.x.array.min()\n",
    "    print('min/max u:', u_mag_min, u_mag_max)"
   ]
  },
  {
   "cell_type": "markdown",
   "id": "af217380",
   "metadata": {},
   "source": [
    "We now solve the problem using fenics in-build solver function:"
   ]
  },
  {
   "cell_type": "code",
   "execution_count": 13,
   "id": "3dc99efd",
   "metadata": {},
   "outputs": [
    {
     "name": "stdout",
     "output_type": "stream",
     "text": [
      "min/max u: 0.0 0.0\n",
      "min/max u: 0.0 0.650658487881549\n"
     ]
    }
   ],
   "source": [
    "log.set_log_level(log.LogLevel.INFO)\n",
    "\n",
    "write_sim(0.0)\n",
    "\n",
    "## Solve for fixed twist and bending loads\n",
    "u.x.array[:] = 0.0\n",
    "f_twist.value = f_twist_max\n",
    "f_bend.value = f_bend_max\n",
    "t_field.interpolate(t_expr)\n",
    "\n",
    "problem.solve()\n",
    "write_sim(1.0)\n",
    "\n",
    "## Solve by incremental loading\n",
    "# # reinitialize displacement\n",
    "# uh.x.array[:] = 0.0\n",
    "# f_twist.value = 0.0\n",
    "# f_bend.value = 0.0\n",
    "\n",
    "# N = 10\n",
    "# for n in range(1, N+1):\n",
    "#     f_twist.value = (n/N) * f_twist_max\n",
    "#     f_bend.value = (n/N) * f_bend_max\n",
    "#     t_field.interpolate(t_expr)\n",
    "#     problem.solve()\n",
    "#     print(f\"Time step {n},Twist Load {f_twist.value}, Bending Load {f_bend.value}\")\n",
    "#     write_sim(n)"
   ]
  },
  {
   "cell_type": "markdown",
   "id": "121f8f6b",
   "metadata": {},
   "source": []
  },
  {
   "cell_type": "markdown",
   "id": "0bfcc7f5",
   "metadata": {},
   "source": [
    "### Plotting results in paraview\n",
    "To plot, open a paraview app and drag the folder `solution.bp` in the box `Pipieline Browser` on left side of paraview app. Next, select the `Warp by Vector` from the `Filters` menu to add displacement to the reference configuration to get the current configuration. Next, select the `von Mises stress` from the plot field selector. \n",
    "\n",
    "<img src=\"results/linear_elastic_results.png\" style=\"width:600px;\">\n"
   ]
  },
  {
   "cell_type": "code",
   "execution_count": null,
   "id": "17ce37d4",
   "metadata": {},
   "outputs": [],
   "source": []
  }
 ],
 "metadata": {
  "kernelspec": {
   "display_name": "confenx",
   "language": "python",
   "name": "python3"
  },
  "language_info": {
   "codemirror_mode": {
    "name": "ipython",
    "version": 3
   },
   "file_extension": ".py",
   "mimetype": "text/x-python",
   "name": "python",
   "nbconvert_exporter": "python",
   "pygments_lexer": "ipython3",
   "version": "3.13.5"
  }
 },
 "nbformat": 4,
 "nbformat_minor": 5
}
