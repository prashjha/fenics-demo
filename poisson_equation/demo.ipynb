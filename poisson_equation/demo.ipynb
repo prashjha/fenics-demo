{
 "cells": [
  {
   "cell_type": "code",
   "execution_count": null,
   "id": "b940c7ed",
   "metadata": {},
   "outputs": [],
   "source": [
    "import numpy as np"
   ]
  },
  {
   "cell_type": "code",
   "execution_count": null,
   "id": "6dadd8ee",
   "metadata": {},
   "outputs": [],
   "source": [
    "a = np.random.rand(2)\n",
    "print(a)"
   ]
  },
  {
   "cell_type": "code",
   "execution_count": null,
   "id": "8292035c",
   "metadata": {},
   "outputs": [],
   "source": [
    "print(np.random.rand(4))\n",
    "print('display result of the code')"
   ]
  },
  {
   "cell_type": "markdown",
   "id": "01820ca8",
   "metadata": {},
   "source": [
    "# How to run python codes in jupyter notebook\n",
    "## section 1.1\n",
    "### section 1.1.1\n",
    "#### section 1.1.1.1\n",
    "##### section 1.1.1.1.1\n",
    "hsfdnjfd"
   ]
  },
  {
   "cell_type": "code",
   "execution_count": null,
   "id": "d507ee3a",
   "metadata": {},
   "outputs": [],
   "source": []
  }
 ],
 "metadata": {
  "kernelspec": {
   "display_name": "Python 3 (ipykernel)",
   "language": "python",
   "name": "python3"
  },
  "language_info": {
   "codemirror_mode": {
    "name": "ipython",
    "version": 3
   },
   "file_extension": ".py",
   "mimetype": "text/x-python",
   "name": "python",
   "nbconvert_exporter": "python",
   "pygments_lexer": "ipython3",
   "version": "3.8.13"
  }
 },
 "nbformat": 4,
 "nbformat_minor": 5
}
