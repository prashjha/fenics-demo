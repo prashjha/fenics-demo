{
 "cells": [
  {
   "cell_type": "markdown",
   "id": "85994fce",
   "metadata": {},
   "source": [
    "# Deformation of solids\n",
    "\n",
    "**Prashant K. Jha**\n",
    "\n",
    "*School of Mechanical and Design Engineering, University of Portsmouth, Portsmouth, UK*"
   ]
  },
  {
   "cell_type": "markdown",
   "id": "f7152901",
   "metadata": {},
   "source": [
    "In this tutorial, we model the deformation of elastic materials using fenics. The problems considered include:\n",
    "1. Deformation of a linear elastic material modeled using small deformation theory. This results in a linear variational problem. I\n",
    "2. Deformation of an orthotropic elastic material (as an example of anisotropic material). \n",
    "3. Deformation of a hyperelastic material assuming large deformation theory. The resulting partial differential equation is highly nonlinear in the displacement.\n",
    "\n",
    "## Small deformation of linear elastic materials\n",
    "\n",
    "Consider a 3-D beam $\\Omega = \\{(x,y,z): x\\in (0, L),\\; y\\in (0,W),\\; z\\in (0,H)\\}$ as shown in the figure. The beam is fixed on the left boundary, $\\Gamma_l = \\{(x,y,z) \\in \\Omega: x = 0\\}$, and is subjected to external traction loading $\\boldsymbol{t}$ on the right boundary, $\\Gamma_r = \\{(x,y,z) \\in \\Omega: x = L\\}$. The load causes beam to deflect in the downward direction and twist about the axis of the beam. \n",
    "\n",
    "<img src=\"results/linear_elastic_problem.png\" style=\"width:400px;\">\n",
    "\n",
    "Suppose $\\boldsymbol{u}(\\boldsymbol{x})$ denotes the displacement of material point $\\boldsymbol{x} \\in \\Omega$. Assuming that small deformation theory is valid, the linearized strain tensor $\\boldsymbol{\\epsilon}$ is given by\n",
    "\\begin{equation}\n",
    "\\boldsymbol{\\epsilon}(\\boldsymbol{x}; \\boldsymbol{u}) = \\frac{1}{2}\\left[ \\nabla \\boldsymbol{u}(\\boldsymbol{x}) + \\nabla \\boldsymbol{u}(\\boldsymbol{x})^T \\right].\n",
    "\\end{equation}\n",
    "Let $\\boldsymbol{\\sigma}(\\boldsymbol{x})$ is the stress tensor in the body that will soon be related to the strain tensor. \n",
    "\n",
    "The equilibrium configuration of the body under external traction $\\boldsymbol{t}$ on the boundary and body force $\\boldsymbol{f}$ is the one where the displacement $\\boldsymbol{u}$ satisfies the following boundary value problem:\n",
    "\\begin{align}\n",
    "-\\nabla \\cdot \\boldsymbol{\\sigma} &= \\boldsymbol{f} && \\qquad \\text{in }\\;\\Omega, \\\\\n",
    "\\boldsymbol{u} &= \\boldsymbol{0} && \\qquad \\text{on }\\;\\Gamma_{l}, \\\\\n",
    "\\boldsymbol{\\sigma}\\boldsymbol{n} &= \\boldsymbol{t} && \\qquad \\text{on }\\;\\Gamma_{r}, \\\\\n",
    "\\boldsymbol{\\sigma}\\boldsymbol{n} &= \\boldsymbol{0} && \\qquad \\text{on }\\;\\partial \\Omega - (\\Gamma_{r}\\cup \\Gamma_{l}), \\\\\n",
    "\\end{align}\n",
    "where, $\\boldsymbol{n}$ is the outward unit normal vector at the boundary, $\\partial \\Omega$ is the boundary of the domain $\\Omega$, and $\\partial \\Omega - (\\Gamma_{r}\\cup \\Gamma_{l})$ is the boundary of the domain except the left and right boundaries.\n",
    "\n",
    "### Constitutive law\n",
    "\n",
    "It remains to show how stress tensor is related to the strain tensor, i.e., specify the constitutive law for the material. We assume isotropic linear elastic material for which the stress-strain relation is given by\n",
    "\\begin{equation}\n",
    "\\boldsymbol{\\sigma} = \\lambda \\mathrm{tr}(\\boldsymbol{\\epsilon}) \\boldsymbol{I} + 2\\mu \\boldsymbol{\\epsilon},\n",
    "\\end{equation}\n",
    "where $(\\lambda, \\mu)$ are Lam\\`e parameters, $\\mathrm{tr}(\\boldsymbol{\\epsilon}) = \\epsilon_{ii} = \\nabla \\cdot \\boldsymbol{u}$ the trace of the tensor $\\boldsymbol{\\epsilon}$, and $\\boldsymbol{I} = \\delta_{ij}$ the identity tensor in 3-D (in 2-D if this was a 2-D problem).\n",
    "\n",
    "### Variational formulation\n",
    "\n",
    "Let $V$ be the appropriate function space for the displacement (functions in $V$ are vector-valued functions). Due to homogeneous Dirichlet boundary condition, the trial and test functions belong to the same function space $V$. \n",
    "\n",
    "Multiplying the strong form of the problem by test function $\\boldsymbol{v}\\in V$ and integrating it over the domain $\\Omega$ gives:\n",
    "\\begin{equation}\n",
    "-\\int_{\\Omega} \\left(\\nabla \\cdot \\boldsymbol{\\sigma}\\right) \\cdot \\boldsymbol{v} \\,d\\boldsymbol{x} = \\int_{\\Omega} \\boldsymbol{f} \\cdot \\boldsymbol{v} \\,d\\boldsymbol{x} .\n",
    "\\end{equation}\n",
    "The term on the left can also be written using integration by parts:\n",
    "\\begin{equation}\n",
    "-\\int_{\\Omega} \\left(\\nabla \\cdot \\boldsymbol{\\sigma}\\right) \\cdot \\boldsymbol{v} \\,d\\boldsymbol{x} = -\\int_{\\partial \\Omega} \\left(\\boldsymbol{\\sigma}\\boldsymbol{n}\\right)\\cdot \\boldsymbol{v} \\,d\\boldsymbol{x} + \\int_{\\Omega} \\boldsymbol{\\sigma} \\boldsymbol{\\colon} \\nabla \\boldsymbol{v} \\,d\\boldsymbol{x} = -\\int_{\\Gamma_{r}} \\boldsymbol{t}\\cdot \\boldsymbol{v} \\,d\\boldsymbol{x} + \\int_{\\Omega} \\boldsymbol{\\sigma} \\boldsymbol{\\colon} \\nabla \\boldsymbol{v} \\,d\\boldsymbol{x}.\n",
    "\\end{equation}\n",
    "Using the above, the variational problem can be stated as follows:\n",
    "\\begin{equation}\n",
    "\\text{find }\\;\\boldsymbol{u}\\in V \\;\\text{such that }\\qquad \\underbrace{\\int_{\\Omega} \\boldsymbol{\\sigma} \\boldsymbol{\\colon} \\nabla \\boldsymbol{v} \\,d\\boldsymbol{x}}_{=: a(\\boldsymbol{u}, \\boldsymbol{v})} = \\underbrace{\\int_{\\Omega} \\boldsymbol{f} \\cdot \\boldsymbol{v} \\,d\\boldsymbol{x} + \\int_{\\Gamma_{r}} \\boldsymbol{t}\\cdot \\boldsymbol{v} \\,d\\boldsymbol{x}}_{=:l(\\boldsymbol{v})} \\qquad \\text{for all }\\; \\boldsymbol{v}\\in V,\n",
    "\\end{equation}\n",
    "where, $\\boldsymbol{\\sigma}$ is related to $\\boldsymbol{u}$ via the constitutive law, and $a(\\cdot, \\cdot)$ and $l(\\cdot)$ are bilinear and linear forms. \n",
    "\n",
    "### Geometrical, material, and external loading parameters and functions\n",
    "\n",
    "In what follows, we let $L = 1$ m, $W = H = 0.2$ m. We assume no body force, i.e., $\\boldsymbol{f} = \\boldsymbol{0}$. The traction loading $\\boldsymbol{t} = (t_x, t_y, t_z)$ on the right boundary $\\Gamma_{r}$ is given by, for all $\\boldsymbol{x} = (x, y, z) \\in \\Gamma_{r}$:\n",
    "\\begin{equation}\n",
    "t_x(\\boldsymbol{x}) = 0, \\quad t_y(\\boldsymbol{x}) =  \\frac{f_{twist}(z - H/2)}{0.01 + r}, \\quad t_z(\\boldsymbol{x}) = - f_{bend} - \\frac{f_{twist}(y - W/2)}{0.01 + r}, \\quad \\text{where } r =\\sqrt{(y - W/2)^2 + (z - H/2)^2}.\n",
    "\\end{equation}\n",
    "Here, $f_{twist}$ and $f_{bend}$ are magnitudes of force per unit area controlling the twisting and bending loadings. For the numerics, we fix \n",
    "\\begin{equation}\n",
    "f_{twist} = 2\\times 10^4\\text{ N/m$^2$}, \\qquad f_{bend} = 5\\times 10^3\\text{ N/m$^2$}.\n",
    "\\end{equation}\n",
    "\n",
    "As for the material properties, we take Young's modulus $E = 10^7$ Pa and Poisson ratio $\\nu = 0.3$. This properties are typical of rubber-like materials. Given $(E, \\nu)$, Lam\\`e parameters can be determined using:\n",
    "\\begin{equation}\n",
    "\\lambda = \\frac{E\\nu}{(1+\\nu)(1-2\\nu)}, \\qquad \\mu = \\frac{E}{2(1+\\nu)}.\n",
    "\\end{equation}\n",
    "\n",
    "### Fenics implementation\n",
    "\n",
    "We start by loading the relevant packages:"
   ]
  },
  {
   "cell_type": "code",
   "execution_count": 1,
   "id": "14534259",
   "metadata": {},
   "outputs": [],
   "source": [
    "# dolfin includes fenics\n",
    "import dolfin as dl\n",
    "\n",
    "# for plotting\n",
    "import matplotlib.pyplot as plt \n",
    "\n",
    "# for numpy and math\n",
    "import numpy as np"
   ]
  },
  {
   "cell_type": "markdown",
   "id": "82a9386c",
   "metadata": {},
   "source": [
    "Next, we set values of different parameters in the simulation:"
   ]
  },
  {
   "cell_type": "code",
   "execution_count": 2,
   "id": "e92d27be",
   "metadata": {},
   "outputs": [],
   "source": [
    "# geometry \n",
    "omega_L, omega_W, omega_H = 1., 0.2, 0.2\n",
    "\n",
    "# material\n",
    "E = dl.Constant(1.e+7) #10 MPa\n",
    "nu = dl.Constant(0.3)\n",
    "lamda = E*nu/(1+nu)/(1-2*nu)\n",
    "mu = E/(2*(1+nu))\n",
    "\n",
    "# loading\n",
    "f_twist = 2.e+4\n",
    "f_bend = 5.e+3"
   ]
  },
  {
   "cell_type": "markdown",
   "id": "62da0059",
   "metadata": {},
   "source": [
    "Create a mesh using in-built function as follows"
   ]
  },
  {
   "cell_type": "code",
   "execution_count": 3,
   "id": "7842ed0f",
   "metadata": {},
   "outputs": [],
   "source": [
    "# mesh (last three arguments are number of elements in x, y, and z directions)\n",
    "mesh = dl.BoxMesh(dl.Point(0, 0, 0), dl.Point(omega_L, omega_W, omega_H), 20, 4, 4)\n",
    "\n",
    "# save mesh\n",
    "# dl.File(\"results/linear_elastic_mesh.pvd\") << mesh"
   ]
  },
  {
   "cell_type": "markdown",
   "id": "c5f6a218",
   "metadata": {},
   "source": [
    "Define vector finite element function space and scalar finite element space (scalar function space will be used to compute the post-processing quantities such as magnitude of the displacement and von-Mises stress):"
   ]
  },
  {
   "cell_type": "code",
   "execution_count": 4,
   "id": "bbab24dd",
   "metadata": {},
   "outputs": [],
   "source": [
    "# specify order of interpolation\n",
    "p_order = 1\n",
    "\n",
    "# create FE function space\n",
    "V = dl.VectorFunctionSpace(mesh, \"Lagrange\", p_order) # or dl.VectorFunctionSpace(mesh, \"P\", p_order)\n",
    "V_scalar = dl.FunctionSpace(mesh, \"Lagrange\", 1) # function space for von Mises stress"
   ]
  },
  {
   "cell_type": "markdown",
   "id": "468c6d05",
   "metadata": {},
   "source": [
    "We also define the trial and test function, and infer the spatial dimension of the problem:"
   ]
  },
  {
   "cell_type": "code",
   "execution_count": 5,
   "id": "2a035c9b",
   "metadata": {},
   "outputs": [],
   "source": [
    "u = dl.TrialFunction(V)\n",
    "v = dl.TestFunction(V)\n",
    "\n",
    "# spatial dimension of the problem\n",
    "d = u.geometric_dimension()  "
   ]
  },
  {
   "cell_type": "markdown",
   "id": "65e15c39",
   "metadata": {},
   "source": [
    "Next, define boundaries for boundary conditions:"
   ]
  },
  {
   "cell_type": "code",
   "execution_count": 6,
   "id": "61a949e8",
   "metadata": {},
   "outputs": [],
   "source": [
    "tol = 1.e-10\n",
    "\n",
    "def left_boundary(x, on_boundary):\n",
    "    return on_boundary and x[0] < tol\n",
    "\n",
    "def right_boundary(x, on_boundary):\n",
    "    return on_boundary and x[0] > omega_L - tol"
   ]
  },
  {
   "cell_type": "markdown",
   "id": "48582dc5",
   "metadata": {},
   "source": [
    "Implement Dirichlet boundary condition on displacement next:"
   ]
  },
  {
   "cell_type": "code",
   "execution_count": 7,
   "id": "cb91676a",
   "metadata": {},
   "outputs": [],
   "source": [
    "# displacement bc\n",
    "bc = dl.DirichletBC(V, dl.Constant((0, 0, 0)), left_boundary)"
   ]
  },
  {
   "cell_type": "markdown",
   "id": "ed7db311",
   "metadata": {},
   "source": [
    "Define the surface area measure for integration over the right boundary for the traction boundary condition:"
   ]
  },
  {
   "cell_type": "code",
   "execution_count": 8,
   "id": "e4dca916",
   "metadata": {},
   "outputs": [],
   "source": [
    "# create a mesh function on faces of elements (dimension is 3 - 1 = 2)\n",
    "facets = dl.MeshFunction(\"size_t\", mesh, 2)\n",
    "\n",
    "# mark the elements that coincide with the right boundary of the domain\n",
    "dl.AutoSubDomain(right_boundary).mark(facets, 1)\n",
    "\n",
    "# create surface measure\n",
    "ds = dl.Measure(\"ds\", subdomain_data=facets)"
   ]
  },
  {
   "cell_type": "markdown",
   "id": "d2c19bda",
   "metadata": {},
   "source": [
    "Next, we define the body force and traction:"
   ]
  },
  {
   "cell_type": "code",
   "execution_count": 9,
   "id": "97ea1b8b",
   "metadata": {},
   "outputs": [],
   "source": [
    "# body force\n",
    "f = dl.Constant((0, 0, 0.))\n",
    "\n",
    "# traction\n",
    "t = dl.Expression((\"0\", \\\n",
    "\"f_twist*((x[2] - omega_H/2)/(sqrt(pow(x[1] - omega_W/2, 2) + pow(x[2] - omega_H/2, 2)) + 0.01))\", \\\n",
    "\"-f_twist*((x[1] - omega_W/2)/(sqrt(pow(x[1] - omega_W/2, 2) + pow(x[2] - omega_H/2, 2)) + 0.01)) - f_bend\"), \\\n",
    "degree=3, \\\n",
    "omega_W = omega_W, \\\n",
    "omega_H = omega_H, \\\n",
    "f_twist = f_twist, \\\n",
    "f_bend = f_bend)"
   ]
  },
  {
   "cell_type": "markdown",
   "id": "ce29dd67",
   "metadata": {},
   "source": [
    "Finally, we are ready to define the bilinear and linear forms associated with the boundary value problem on displacement:"
   ]
  },
  {
   "cell_type": "code",
   "execution_count": 10,
   "id": "56783faf",
   "metadata": {},
   "outputs": [],
   "source": [
    "# Define strain and stress\n",
    "def epsilon(u):\n",
    "    return 0.5*(dl.grad(u) + dl.grad(u).T)\n",
    "    #return sym(nabla_grad(u))\n",
    "\n",
    "def sigma(u):\n",
    "    return lamda*dl.div(u)*dl.Identity(d) + 2*mu*epsilon(u)\n",
    "\n",
    "# bilinear form\n",
    "a = dl.inner(sigma(u), epsilon(v))*dl.dx\n",
    "\n",
    "# linear form\n",
    "l = dl.dot(f, v)*dl.dx + dl.dot(t, v)*ds"
   ]
  },
  {
   "cell_type": "markdown",
   "id": "af217380",
   "metadata": {},
   "source": [
    "We now solve the problem using fenics in-build solver function:"
   ]
  },
  {
   "cell_type": "code",
   "execution_count": 11,
   "id": "3dc99efd",
   "metadata": {},
   "outputs": [
    {
     "name": "stdout",
     "output_type": "stream",
     "text": [
      "Solving linear variational problem.\n"
     ]
    }
   ],
   "source": [
    "u = dl.Function(V, name = \"u\")\n",
    "\n",
    "# solve\n",
    "dl.solve(a == l, u, bc)"
   ]
  },
  {
   "cell_type": "markdown",
   "id": "121f8f6b",
   "metadata": {},
   "source": [
    "Compute post-processing quantities such as von-Mises stress that is defined as\n",
    "\\begin{equation}\n",
    "\\sigma_v = \\sqrt{\\frac{3}{2}\\boldsymbol{\\sigma}_{dev}\\boldsymbol{\\colon}\\boldsymbol{\\sigma}_{dev}} = \\sqrt{\\frac{3}{2}\\sigma_{dev, ij} \\sigma_{dev, ij}}\\;, \\quad \\text{where}\\quad  \\boldsymbol{\\sigma}_{dev} = \\text{deviatoric stress} = \\boldsymbol{\\sigma} - \\frac{\\mathrm{tr}(\\boldsymbol{\\sigma})}{3}\\boldsymbol{I} \n",
    "\\end{equation}\n",
    "and magnitude of the displacement."
   ]
  },
  {
   "cell_type": "code",
   "execution_count": 12,
   "id": "6fce88f1",
   "metadata": {},
   "outputs": [
    {
     "name": "stdout",
     "output_type": "stream",
     "text": [
      "min/max u: -0.00015295226103867576 0.42654192140692143\n"
     ]
    }
   ],
   "source": [
    "# Post-processing: compute von Mises stress\n",
    "sigma_dev = sigma(u) - (1./3)*dl.tr(sigma(u))*dl.Identity(d)  # deviatoric stress\n",
    "sigma_vm = dl.Function(V_scalar, name = 'von Mises stress')\n",
    "dl.project(dl.sqrt(3./2*dl.inner(sigma_dev, sigma_dev)), V_scalar, function = sigma_vm)\n",
    "\n",
    "# Compute magnitude of displacement\n",
    "u_magnitude = dl.Function(V_scalar, name = 'magnitude(u)')\n",
    "dl.project(dl.sqrt(dl.dot(u, u)), V_scalar, function = u_magnitude)\n",
    "\n",
    "print('min/max u:',\n",
    "      u_magnitude.vector().min(),\n",
    "      u_magnitude.vector().max())"
   ]
  },
  {
   "cell_type": "markdown",
   "id": "5973ba54",
   "metadata": {},
   "source": [
    "Save results for visualization:"
   ]
  },
  {
   "cell_type": "code",
   "execution_count": 13,
   "id": "1c1f748a",
   "metadata": {},
   "outputs": [],
   "source": [
    "ffile = dl.XDMFFile(\"fwd_result/linear_elastic/linear_elastic.xdmf\")\n",
    "ffile.parameters[\"flush_output\"]=True\n",
    "ffile.parameters[\"functions_share_mesh\"]=True\n",
    "ffile.write(u, 0)\n",
    "ffile.write(sigma_vm, 0)\n",
    "ffile.write(u_magnitude, 0)"
   ]
  },
  {
   "cell_type": "markdown",
   "id": "0bfcc7f5",
   "metadata": {},
   "source": [
    "### Plotting results in paraview\n",
    "\n",
    "<img src=\"results/linear_elastic_results.png\" style=\"width:600px;\">\n"
   ]
  },
  {
   "cell_type": "code",
   "execution_count": null,
   "id": "17ce37d4",
   "metadata": {},
   "outputs": [],
   "source": []
  },
  {
   "cell_type": "markdown",
   "id": "0a46f331",
   "metadata": {},
   "source": [
    "## Deformation of orthotropic (anisotropic) materials\n",
    "\n",
    "In this example, we deal with a slightly complicated constitutive law relating strain to stress. Specifically, we consider orthotropic materials in which the material properties such as Young's modulus and Poisson ratio in three orthonormal directions can be different. This is in contrast to isotropic materials where material has same properties in all directions. "
   ]
  },
  {
   "cell_type": "code",
   "execution_count": null,
   "id": "4e2c1fc3",
   "metadata": {},
   "outputs": [],
   "source": []
  }
 ],
 "metadata": {
  "kernelspec": {
   "display_name": "Python 3 (ipykernel)",
   "language": "python",
   "name": "python3"
  },
  "language_info": {
   "codemirror_mode": {
    "name": "ipython",
    "version": 3
   },
   "file_extension": ".py",
   "mimetype": "text/x-python",
   "name": "python",
   "nbconvert_exporter": "python",
   "pygments_lexer": "ipython3",
   "version": "3.8.13"
  }
 },
 "nbformat": 4,
 "nbformat_minor": 5
}
