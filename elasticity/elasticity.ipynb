{
 "cells": [
  {
   "cell_type": "markdown",
   "id": "85994fce",
   "metadata": {},
   "source": [
    "# Deformation of solids\n",
    "\n",
    "In this tutorial, we consider deformation of elastic materials. In the first example, we consider a linear elastic material. We consider a small deformation theory as a result the variational problem is a linear problem. The second example is that of a hyperelastic neo-Hookean material and the large deformation theory is assumed to model the deformation. This results in a highly nonlinear model. \n",
    "\n",
    "## Small deformation of linear elastic materials\n"
   ]
  },
  {
   "cell_type": "code",
   "execution_count": null,
   "id": "88981e17",
   "metadata": {},
   "outputs": [],
   "source": []
  }
 ],
 "metadata": {
  "kernelspec": {
   "display_name": "Python 3 (ipykernel)",
   "language": "python",
   "name": "python3"
  },
  "language_info": {
   "codemirror_mode": {
    "name": "ipython",
    "version": 3
   },
   "file_extension": ".py",
   "mimetype": "text/x-python",
   "name": "python",
   "nbconvert_exporter": "python",
   "pygments_lexer": "ipython3",
   "version": "3.8.13"
  }
 },
 "nbformat": 4,
 "nbformat_minor": 5
}
